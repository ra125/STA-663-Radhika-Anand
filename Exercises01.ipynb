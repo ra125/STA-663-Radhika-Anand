{
 "metadata": {
  "name": "",
  "signature": "sha256:00e1de85215cf5787d4d5b72889a2929b1e815b941fed56335cae2ea55fb17ff"
 },
 "nbformat": 3,
 "nbformat_minor": 0,
 "worksheets": [
  {
   "cells": [
    {
     "cell_type": "code",
     "collapsed": false,
     "input": [
      "from IPython.display import Image"
     ],
     "language": "python",
     "metadata": {},
     "outputs": []
    },
    {
     "cell_type": "markdown",
     "metadata": {},
     "source": [
      "Computer lab\n",
      "----\n",
      "\n",
      "These exercises are designed to give you some practice coding in Python and proivde familiarity with the language syntax."
     ]
    },
    {
     "cell_type": "markdown",
     "metadata": {},
     "source": [
      "**Exercise 1 [10 pts]**. Write code to solve the [Project Euler puzzle 1](https://projecteuler.net/problems)"
     ]
    },
    {
     "cell_type": "code",
     "collapsed": false,
     "input": [
      "# This code solves the Euler Puzzle 1 which is:\n",
      "# If we list all the natural numbers below 10 that are multiples of 3 or 5, we get 3, 5, 6 and 9. \n",
      "# The sum of these multiples is 23. Find the sum of all the multiples of 3 or 5 below 1000.\n",
      "\n",
      "add=0\n",
      "\n",
      "for i in range(1, 1000):\n",
      "    if i%3 == 0:\n",
      "        add += i\n",
      "    elif i%5 == 0:\n",
      "        add += i\n",
      "\n",
      "print(add)\n"
     ],
     "language": "python",
     "metadata": {},
     "outputs": [
      {
       "output_type": "stream",
       "stream": "stdout",
       "text": [
        "233168\n"
       ]
      }
     ],
     "prompt_number": 13
    },
    {
     "cell_type": "markdown",
     "metadata": {},
     "source": [
      "**Exericse 2 [10 pts]**. Wikipedia gives the sample correlation coefficient formula as shown below. Write functions to calculate the sample mean, the sample standard deviation and the sample correlation coefficient. Calculate the sample correlation coefficent for the following lists of numbers:\n",
      "\n",
      "```python\n",
      "x = [10.0, 8.0, 13.0, 9.0, 11.0, 14.0, 6.0, 4.0, 12.0, 7.0, 5.0]\n",
      "y = [8.04, 6.95, 7.58, 8.81, 8.33, 9.96, 7.24, 4.26, 10.84, 4.82, 5.68]\n",
      "```\n",
      "\n",
      "Do NOT use `numpy`  functions - the idea is to code the functions yourself! The square root of $x$ can be calculated as ```x**0.5```."
     ]
    },
    {
     "cell_type": "code",
     "collapsed": false,
     "input": [
      "Image(url=\"http://upload.wikimedia.org/math/0/4/e/04e3ee493ddb1f01e03d8bf024fbd0a5.png\")"
     ],
     "language": "python",
     "metadata": {},
     "outputs": [
      {
       "html": [
        "<img src=\"http://upload.wikimedia.org/math/0/4/e/04e3ee493ddb1f01e03d8bf024fbd0a5.png\"/>"
       ],
       "metadata": {},
       "output_type": "pyout",
       "prompt_number": 3,
       "text": [
        "<IPython.core.display.Image at 0x1033e2e50>"
       ]
      }
     ],
     "prompt_number": 3
    },
    {
     "cell_type": "code",
     "collapsed": false,
     "input": [
      "Image(url=\"http://upload.wikimedia.org/math/7/0/d/70df5220933ae8298cd5ef1c719360bf.png\")"
     ],
     "language": "python",
     "metadata": {},
     "outputs": [
      {
       "html": [
        "<img src=\"http://upload.wikimedia.org/math/7/0/d/70df5220933ae8298cd5ef1c719360bf.png\"/>"
       ],
       "metadata": {},
       "output_type": "pyout",
       "prompt_number": 4,
       "text": [
        "<IPython.core.display.Image at 0x10369d310>"
       ]
      }
     ],
     "prompt_number": 4
    },
    {
     "cell_type": "code",
     "collapsed": false,
     "input": [
      "# This code creates functions for mean, standard deviation and sample correlation coefficient\n",
      "# and calculates the sample correlation coefficient for given x and y.\n",
      "\n",
      "x = [10.0, 8.0, 13.0, 9.0, 11.0, 14.0, 6.0, 4.0, 12.0, 7.0, 5.0]\n",
      "y = [8.04, 6.95, 7.58, 8.81, 8.33, 9.96, 7.24, 4.26, 10.84, 4.82, 5.68]\n",
      "\n",
      "def mean(x):\n",
      "    return (sum(x)/len(x))\n",
      "\n",
      "def stdev(x):\n",
      "    add=0\n",
      "    for i in x:\n",
      "        add += (i-mean(x))**2\n",
      "    stdev=(add/(len(x)-1))**0.5\n",
      "    return(stdev)\n",
      "\n",
      "def cor(x,y):\n",
      "    add=0\n",
      "    for i in range(0,len(x)):\n",
      "        add += ((x[i]-mean(x))/stdev(x))*((y[i]-mean(y))/stdev(y))\n",
      "    cor=add/(len(x)-1)\n",
      "    return(cor)\n",
      "\n",
      "cor(x,y)\n",
      "mean(y)"
     ],
     "language": "python",
     "metadata": {},
     "outputs": [
      {
       "metadata": {},
       "output_type": "pyout",
       "prompt_number": 115,
       "text": [
        "7.500909090909093"
       ]
      }
     ],
     "prompt_number": 115
    },
    {
     "cell_type": "markdown",
     "metadata": {},
     "source": [
      "**Exercise 3** [10 pts]. Write a function to calculate hailstone numbers.\n",
      "\n",
      "Start with any positive integer (an initial seed) and obtain a sequence of numbers by following these rules.\n",
      "\n",
      "1. Base case: If the number is 1, stop.\n",
      "2. Recursvie case: If the current number is even, divide it by two; else if it is odd, multiply it by three and add one. \n",
      "\n",
      "The seqeunce of numbers obtained are known as *hailstone numbers* - although it is not proven that all sequences will eventually terminate with 1 (Collatz conjecture), no couter-example has yet been found. \n",
      "\n",
      "For example, starting with 7, we get the seuqence 7, 22, 11, 34, 17, 52, 26, 13, 40, 20, 10, 5, 16, 8, 4, 2, 1, 4, 2, 1.\n",
      "\n",
      "A recursive function to find the sequence of hailstone nummbers is given below. Write a *non-recursvie* version of the function that gives the same result. Using your function, what is the length of the sequeence obtained when we start with 23?\n",
      "\n",
      "```python\n",
      "def hailstone(n, acc=None):\n",
      "    \"\"\"Given a positive integer n, return the series of hailstone numbers.\"\"\"\n",
      "    if acc is None:\n",
      "        acc = []\n",
      "    acc.append(n)\n",
      "    if n == 1:\n",
      "        return acc\n",
      "    else:\n",
      "        if n%2 == 0:\n",
      "            return hailstone(n/2, acc)\n",
      "        else:\n",
      "            return hailstone(n*3 + 1, acc)\n",
      "```"
     ]
    },
    {
     "cell_type": "code",
     "collapsed": false,
     "input": [
      "# Non-recursive code to generate hailstone numbers\n",
      "# Doubt in example for 7 given above\n",
      "\n",
      "def hailstonerec(n, acc=None):\n",
      "    \"\"\"Given a positive integer n, return the series of hailstone numbers.\"\"\"\n",
      "    if acc is None:\n",
      "        acc = []\n",
      "    acc.append(n)\n",
      "    if n == 1:\n",
      "        return acc\n",
      "    else:\n",
      "        if n%2 == 0:\n",
      "            return hailstonerec(n/2, acc)\n",
      "        else:\n",
      "            return hailstonerec(n*3 + 1, acc)\n",
      "\n",
      "print(hailstonerec(23))\n",
      "\n",
      "\n",
      "def hailstone(n, acc=None):\n",
      "    if acc is None:\n",
      "        acc=[]\n",
      "    acc.append(n)\n",
      "    while(n!=1):\n",
      "        if n%2 == 0:\n",
      "            n=n/2\n",
      "        else:\n",
      "            n=n*3+1\n",
      "        acc.append(n)\n",
      "    return acc\n",
      "\n",
      "print(hailstone(23))\n",
      "print(len(hailstone(23)))\n"
     ],
     "language": "python",
     "metadata": {},
     "outputs": [
      {
       "output_type": "stream",
       "stream": "stdout",
       "text": [
        "[23, 70, 35, 106, 53, 160, 80, 40, 20, 10, 5, 16, 8, 4, 2, 1]\n",
        "[23, 70, 35, 106, 53, 160, 80, 40, 20, 10, 5, 16, 8, 4, 2, 1]\n",
        "16\n"
       ]
      }
     ],
     "prompt_number": 57
    },
    {
     "cell_type": "markdown",
     "metadata": {},
     "source": [
      "**Exercise 4 [20 pts]**. A Caesar cipher replaces each in a string with the letter $k$ modulo 26 positions down. For example, with $k=3$, 'a' would become 'd', 'b' would become 'e' and so on. The Caesar cipher is very easy to crack, since the relative letter frequencies are preserved - that is, 'e' is the most commonly used English letter, so the most frequent letter in the cipher is likely to be the code for 'e'. We can download a large corpus of English text (e.g. a few books from Project Gutenberg), and estimate the individual letter frequencies. Using for example, a multinomial model where each letter is one of 26 possibiilites with frequencies given by the the previous estimates, and assuming that each letter is independent, we can simply go through all 26 possible values of $k$ and choose the model with the highest likelihood. Or just use $\\chi^2$ statistic to compare observed and expected frequencies.\n",
      "\n",
      "Have an extended exercise to write a Caesar encoder and code to crack the cipher. \n",
      "\n",
      "- Writing the encoder/decoder\n",
      "    - Convert a sentence to lowercase\n",
      "    - Write a function let2int to convert a lowercase letter to a number from 0 to 25\n",
      "    - Write the reverse function int2let to convert a number to a lowercase letter\n",
      "    - Examples with the ternary operator in a list comprehsnsion\n",
      "    - Write a functiton to encode a sentecne with shift k\n",
      "    - Write a function to decode a sentence with shfit k\n",
      "    - Confirm that sentence = decode(encode(sentence))\n",
      "    \n",
      "- Writing the cracker\n",
      "    - Write a function to download a book from Project Gutenberg\n",
      "    ```python\n",
      "    text = urllib2.urlopen('http://www.gutenberg.org/ebooks/1342.txt.utf-8').read()\n",
      "    ```\n",
      "    - Write a fucntion to estimte letter frequencies in text\n",
      "    - Write a function to calculate the $\\chi^2$ statistic given observed and expected frequencies\n",
      "    - Write a cracker to deecode encrypted text by choosing the shift $k$ with the smallest $\\chi^2$ score"
     ]
    },
    {
     "cell_type": "code",
     "collapsed": false,
     "input": [
      "## Encoder/Decoder\n",
      "\n",
      "# Conversion to lowercase\n",
      "\n",
      "a=\"hEllO yorld\"\n",
      "a.lower()\n",
      "\n",
      "# Function for letter to integer conversion\n",
      "\n",
      "def let2int(b):\n",
      "    numb=ord(b)-97\n",
      "    return numb\n",
      "\n",
      "# Function for interger to letter conversion\n",
      "\n",
      "def int2let(numc):\n",
      "    c=chr(numc+97)\n",
      "    return c\n",
      "\n",
      "# Do examples with ternary part. Ask what it means!!\n",
      "\n",
      "# Function to encode a sentence with shift k (Ask about retaining upper case or not???)\n",
      "\n",
      "def encode(s,k):\n",
      "    lis=list(s.lower())\n",
      "    enc=[]\n",
      "    for i in range(len(lis)):\n",
      "        if lis[i]==' ':\n",
      "            enc.append(lis[i])\n",
      "        else:\n",
      "            en=int2let((let2int(lis[i])+k)%26)\n",
      "            enc.append(en)\n",
      "    return ''.join(enc)\n",
      "\n",
      "# Function to decode a sentence with \n",
      "        \n",
      "def decode(s,k):\n",
      "    lis=list(s.lower())\n",
      "    dec=[]\n",
      "    for i in range(len(lis)):\n",
      "        if lis[i]==' ':\n",
      "            dec.append(lis[i])\n",
      "        else:\n",
      "            de=int2let((let2int(lis[i])-k)%26)\n",
      "            dec.append(de)\n",
      "    return ''.join(dec)\n",
      "\n",
      "# Confirm that sentence = decode(encode(sentence))\n",
      "\n",
      "decode(encode(a,3),3)\n",
      "\n",
      "## Cracker\n",
      "\n",
      "\n"
     ],
     "language": "python",
     "metadata": {},
     "outputs": [
      {
       "metadata": {},
       "output_type": "pyout",
       "prompt_number": 102,
       "text": [
        "'hello yorld'"
       ]
      }
     ],
     "prompt_number": 102
    },
    {
     "cell_type": "code",
     "collapsed": false,
     "input": [
      "chr(99)"
     ],
     "language": "python",
     "metadata": {},
     "outputs": [
      {
       "metadata": {},
       "output_type": "pyout",
       "prompt_number": 63,
       "text": [
        "'c'"
       ]
      }
     ],
     "prompt_number": 63
    },
    {
     "cell_type": "code",
     "collapsed": false,
     "input": [
      "ord(\"a\")"
     ],
     "language": "python",
     "metadata": {},
     "outputs": [
      {
       "metadata": {},
       "output_type": "pyout",
       "prompt_number": 64,
       "text": [
        "97"
       ]
      }
     ],
     "prompt_number": 64
    },
    {
     "cell_type": "code",
     "collapsed": false,
     "input": [
      "chr(97)"
     ],
     "language": "python",
     "metadata": {},
     "outputs": [
      {
       "metadata": {},
       "output_type": "pyout",
       "prompt_number": 65,
       "text": [
        "'a'"
       ]
      }
     ],
     "prompt_number": 65
    },
    {
     "cell_type": "code",
     "collapsed": false,
     "input": [
      "a=\"hEllO World\"\n",
      "range(len(a))\n",
      "a[10]\n",
      "range(len(list(a)))\n",
      "\n",
      "''.join(list(a))\n"
     ],
     "language": "python",
     "metadata": {},
     "outputs": [
      {
       "metadata": {},
       "output_type": "pyout",
       "prompt_number": 91,
       "text": [
        "'hEllO World'"
       ]
      }
     ],
     "prompt_number": 91
    },
    {
     "cell_type": "code",
     "collapsed": false,
     "input": [
      "int2let((let2int(\"b\")+3)%26)"
     ],
     "language": "python",
     "metadata": {},
     "outputs": [
      {
       "metadata": {},
       "output_type": "pyout",
       "prompt_number": 85,
       "text": [
        "'e'"
       ]
      }
     ],
     "prompt_number": 85
    },
    {
     "cell_type": "code",
     "collapsed": false,
     "input": [
      "ord(' ')"
     ],
     "language": "python",
     "metadata": {},
     "outputs": [
      {
       "metadata": {},
       "output_type": "pyout",
       "prompt_number": 97,
       "text": [
        "32"
       ]
      }
     ],
     "prompt_number": 97
    },
    {
     "cell_type": "code",
     "collapsed": false,
     "input": [
      "# Your code here\n",
      "def mean1(x):\n",
      "   \"\"\"Calcualtes the mean of given sample\"\"\"\n",
      "   return (sum(x)/len(x))\n",
      "\n",
      "def stdev(x):\n",
      "   \"\"\"Calculate standard deviation of given sample\"\"\"\n",
      "   return (sum((x-mean(x))**2)/(len(x)-1))**0.5\n",
      "   \n",
      "def corrcoef(x,y):\n",
      "   \"\"\"Calculate correlation coeffieient between two lists\"\"\"\n",
      "   return sum((x-mean(x))/stdev(x)*(y-mean(y))/stdev(y))/(len(x)-1)\n",
      "\n",
      "\n",
      "x = [10.0, 8.0, 13.0, 9.0, 11.0, 14.0, 6.0, 4.0, 12.0, 7.0, 5.0]\n",
      "y = [8.04, 6.95, 7.58, 8.81, 8.33, 9.96, 7.24, 4.26, 10.84, 4.82, 5.68]\n",
      "\n",
      "stdev(x)"
     ],
     "language": "python",
     "metadata": {},
     "outputs": [
      {
       "ename": "TypeError",
       "evalue": "unsupported operand type(s) for -: 'list' and 'float'",
       "output_type": "pyerr",
       "traceback": [
        "\u001b[0;31m---------------------------------------------------------------------------\u001b[0m\n\u001b[0;31mTypeError\u001b[0m                                 Traceback (most recent call last)",
        "\u001b[0;32m<ipython-input-116-39122ea887d8>\u001b[0m in \u001b[0;36m<module>\u001b[0;34m()\u001b[0m\n\u001b[1;32m     16\u001b[0m \u001b[0my\u001b[0m \u001b[0;34m=\u001b[0m \u001b[0;34m[\u001b[0m\u001b[0;36m8.04\u001b[0m\u001b[0;34m,\u001b[0m \u001b[0;36m6.95\u001b[0m\u001b[0;34m,\u001b[0m \u001b[0;36m7.58\u001b[0m\u001b[0;34m,\u001b[0m \u001b[0;36m8.81\u001b[0m\u001b[0;34m,\u001b[0m \u001b[0;36m8.33\u001b[0m\u001b[0;34m,\u001b[0m \u001b[0;36m9.96\u001b[0m\u001b[0;34m,\u001b[0m \u001b[0;36m7.24\u001b[0m\u001b[0;34m,\u001b[0m \u001b[0;36m4.26\u001b[0m\u001b[0;34m,\u001b[0m \u001b[0;36m10.84\u001b[0m\u001b[0;34m,\u001b[0m \u001b[0;36m4.82\u001b[0m\u001b[0;34m,\u001b[0m \u001b[0;36m5.68\u001b[0m\u001b[0;34m]\u001b[0m\u001b[0;34m\u001b[0m\u001b[0m\n\u001b[1;32m     17\u001b[0m \u001b[0;34m\u001b[0m\u001b[0m\n\u001b[0;32m---> 18\u001b[0;31m \u001b[0mstdev\u001b[0m\u001b[0;34m(\u001b[0m\u001b[0mx\u001b[0m\u001b[0;34m)\u001b[0m\u001b[0;34m\u001b[0m\u001b[0m\n\u001b[0m",
        "\u001b[0;32m<ipython-input-116-39122ea887d8>\u001b[0m in \u001b[0;36mstdev\u001b[0;34m(x)\u001b[0m\n\u001b[1;32m      6\u001b[0m \u001b[0;32mdef\u001b[0m \u001b[0mstdev\u001b[0m\u001b[0;34m(\u001b[0m\u001b[0mx\u001b[0m\u001b[0;34m)\u001b[0m\u001b[0;34m:\u001b[0m\u001b[0;34m\u001b[0m\u001b[0m\n\u001b[1;32m      7\u001b[0m    \u001b[0;34m\"\"\"Calculate standard deviation of given sample\"\"\"\u001b[0m\u001b[0;34m\u001b[0m\u001b[0m\n\u001b[0;32m----> 8\u001b[0;31m    \u001b[0;32mreturn\u001b[0m \u001b[0;34m(\u001b[0m\u001b[0msum\u001b[0m\u001b[0;34m(\u001b[0m\u001b[0;34m(\u001b[0m\u001b[0mx\u001b[0m\u001b[0;34m-\u001b[0m\u001b[0mmean\u001b[0m\u001b[0;34m(\u001b[0m\u001b[0mx\u001b[0m\u001b[0;34m)\u001b[0m\u001b[0;34m)\u001b[0m\u001b[0;34m**\u001b[0m\u001b[0;36m2\u001b[0m\u001b[0;34m)\u001b[0m\u001b[0;34m/\u001b[0m\u001b[0;34m(\u001b[0m\u001b[0mlen\u001b[0m\u001b[0;34m(\u001b[0m\u001b[0mx\u001b[0m\u001b[0;34m)\u001b[0m\u001b[0;34m-\u001b[0m\u001b[0;36m1\u001b[0m\u001b[0;34m)\u001b[0m\u001b[0;34m)\u001b[0m\u001b[0;34m**\u001b[0m\u001b[0;36m0.5\u001b[0m\u001b[0;34m\u001b[0m\u001b[0m\n\u001b[0m\u001b[1;32m      9\u001b[0m \u001b[0;34m\u001b[0m\u001b[0m\n\u001b[1;32m     10\u001b[0m \u001b[0;32mdef\u001b[0m \u001b[0mcorrcoef\u001b[0m\u001b[0;34m(\u001b[0m\u001b[0mx\u001b[0m\u001b[0;34m,\u001b[0m\u001b[0my\u001b[0m\u001b[0;34m)\u001b[0m\u001b[0;34m:\u001b[0m\u001b[0;34m\u001b[0m\u001b[0m\n",
        "\u001b[0;31mTypeError\u001b[0m: unsupported operand type(s) for -: 'list' and 'float'"
       ]
      }
     ],
     "prompt_number": 116
    },
    {
     "cell_type": "code",
     "collapsed": false,
     "input": [
      "type(mean1(x))"
     ],
     "language": "python",
     "metadata": {},
     "outputs": [
      {
       "metadata": {},
       "output_type": "pyout",
       "prompt_number": 117,
       "text": [
        "float"
       ]
      }
     ],
     "prompt_number": 117
    },
    {
     "cell_type": "code",
     "collapsed": false,
     "input": [
      "ord('4')"
     ],
     "language": "python",
     "metadata": {},
     "outputs": [
      {
       "metadata": {},
       "output_type": "pyout",
       "prompt_number": 118,
       "text": [
        "52"
       ]
      }
     ],
     "prompt_number": 118
    },
    {
     "cell_type": "code",
     "collapsed": false,
     "input": [],
     "language": "python",
     "metadata": {},
     "outputs": []
    }
   ],
   "metadata": {}
  }
 ]
}
