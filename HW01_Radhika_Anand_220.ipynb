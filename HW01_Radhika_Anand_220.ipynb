{
 "metadata": {
  "name": "",
  "signature": "sha256:4b38ac976c09baa0072013d6dca2e2fe32a45b460dead3e30d2e2eecc5ec2115"
 },
 "nbformat": 3,
 "nbformat_minor": 0,
 "worksheets": [
  {
   "cells": [
    {
     "cell_type": "code",
     "collapsed": false,
     "input": [
      "from IPython.display import Image"
     ],
     "language": "python",
     "metadata": {},
     "outputs": [],
     "prompt_number": 2
    },
    {
     "cell_type": "markdown",
     "metadata": {},
     "source": [
      "Computer lab\n",
      "----\n",
      "\n",
      "These exercises are designed to give you some practice coding in Python and proivde familiarity with the language syntax."
     ]
    },
    {
     "cell_type": "markdown",
     "metadata": {},
     "source": [
      "**Exercise 1 [10 pts]**. Write code to solve the [Project Euler puzzle 1](https://projecteuler.net/problems)"
     ]
    },
    {
     "cell_type": "code",
     "collapsed": false,
     "input": [
      "# This code solves the Euler Puzzle 1 which is:\n",
      "# If we list all the natural numbers below 10 that are multiples of 3 or 5, we get 3, 5, 6 and 9. \n",
      "# The sum of these multiples is 23. Find the sum of all the multiples of 3 or 5 below 1000.\n",
      "\n",
      "add=0\n",
      "\n",
      "for i in range(1, 1000):\n",
      "    if i%3 == 0:\n",
      "        add += i\n",
      "    elif i%5 == 0: #doesn't evaluate if already a multiple of 3 and hence no need to subtract for multiples of 15 separately \n",
      "        add += i\n",
      "\n",
      "print(add)"
     ],
     "language": "python",
     "metadata": {},
     "outputs": [
      {
       "output_type": "stream",
       "stream": "stdout",
       "text": [
        "233168\n"
       ]
      }
     ],
     "prompt_number": 16
    },
    {
     "cell_type": "markdown",
     "metadata": {},
     "source": [
      "**Exericse 2 [10 pts]**. Wikipedia gives the sample correlation coefficient formula as shown below. Write functions to calculate the sample mean, the sample standard deviation and the sample correlation coefficient. Calculate the sample correlation coefficent for the following lists of numbers:\n",
      "\n",
      "```python\n",
      "x = [10.0, 8.0, 13.0, 9.0, 11.0, 14.0, 6.0, 4.0, 12.0, 7.0, 5.0]\n",
      "y = [8.04, 6.95, 7.58, 8.81, 8.33, 9.96, 7.24, 4.26, 10.84, 4.82, 5.68]\n",
      "```\n",
      "\n",
      "Do NOT use `numpy`  functions - the idea is to code the functions yourself! The square root of $x$ can be calculated as ```x**0.5```."
     ]
    },
    {
     "cell_type": "code",
     "collapsed": false,
     "input": [
      "Image(url=\"http://upload.wikimedia.org/math/0/4/e/04e3ee493ddb1f01e03d8bf024fbd0a5.png\")"
     ],
     "language": "python",
     "metadata": {},
     "outputs": [
      {
       "html": [
        "<img src=\"http://upload.wikimedia.org/math/0/4/e/04e3ee493ddb1f01e03d8bf024fbd0a5.png\"/>"
       ],
       "metadata": {},
       "output_type": "pyout",
       "prompt_number": 4,
       "text": [
        "<IPython.core.display.Image at 0x7f9126a78550>"
       ]
      }
     ],
     "prompt_number": 4
    },
    {
     "cell_type": "code",
     "collapsed": false,
     "input": [
      "Image(url=\"http://upload.wikimedia.org/math/7/0/d/70df5220933ae8298cd5ef1c719360bf.png\")"
     ],
     "language": "python",
     "metadata": {},
     "outputs": [
      {
       "html": [
        "<img src=\"http://upload.wikimedia.org/math/7/0/d/70df5220933ae8298cd5ef1c719360bf.png\"/>"
       ],
       "metadata": {},
       "output_type": "pyout",
       "prompt_number": 5,
       "text": [
        "<IPython.core.display.Image at 0x7f9126a78590>"
       ]
      }
     ],
     "prompt_number": 5
    },
    {
     "cell_type": "code",
     "collapsed": false,
     "input": [
      "# This code creates functions for mean, standard deviation and sample correlation coefficient\n",
      "# and calculates the sample correlation coefficient for given x and y.\n",
      "\n",
      "x = [10.0, 8.0, 13.0, 9.0, 11.0, 14.0, 6.0, 4.0, 12.0, 7.0, 5.0]\n",
      "y = [8.04, 6.95, 7.58, 8.81, 8.33, 9.96, 7.24, 4.26, 10.84, 4.82, 5.68]\n",
      "\n",
      "#Function to calculate mean\n",
      "def mean(x):\n",
      "    return (sum(x)/len(x))\n",
      "\n",
      "#Function to calculate std deviation\n",
      "def stdev(x):\n",
      "    add=0\n",
      "    for i in x: #loop used because not numpy\n",
      "        add += (i-mean(x))**2\n",
      "    stdev=(add/(len(x)-1))**0.5\n",
      "    return(stdev)\n",
      "\n",
      "#Function to calculate sample correlation coefficient\n",
      "def cor(x,y):\n",
      "    add=0\n",
      "    for i in range(0,len(x)):\n",
      "        add += ((x[i]-mean(x))/stdev(x))*((y[i]-mean(y))/stdev(y))\n",
      "    cor=add/(len(x)-1)\n",
      "    return(cor)\n",
      "\n",
      "cor(x,y)"
     ],
     "language": "python",
     "metadata": {},
     "outputs": [
      {
       "metadata": {},
       "output_type": "pyout",
       "prompt_number": 17,
       "text": [
        "0.81642051634483992"
       ]
      }
     ],
     "prompt_number": 17
    },
    {
     "cell_type": "markdown",
     "metadata": {},
     "source": [
      "**Exercise 3** [10 pts]. Write a function to calculate hailstone numbers.\n",
      "\n",
      "Start with any positive integer (an initial seed) and obtain a sequence of numbers by following these rules.\n",
      "\n",
      "1. Base case: If the number is 1, stop.\n",
      "2. Recursive case: If the current number is even, divide it by two; else if it is odd, multiply it by three and add one. \n",
      "\n",
      "The seqeunce of numbers obtained are known as *hailstone numbers* - although it is not proven that all sequences will eventually terminate with 1 (Collatz conjecture), no counter-example has yet been found. \n",
      "\n",
      "For example, starting with 7, we get the sequence 7, 22, 11, 34, 17, 52, 26, 13, 40, 20, 10, 5, 16, 8, 4, 2, 1.\n",
      "\n",
      "A recursive function to find the sequence of hailstone numbers is given below. Write a *non-recursive* version of the function that gives the same result. Using your function, what is the length of the sequeence obtained when we start with 23?\n",
      "\n",
      "```python\n",
      "def hailstone(n, acc=None):\n",
      "    \"\"\"Given a positive integer n, return the series of hailstone numbers.\"\"\"\n",
      "    if acc is None:\n",
      "        acc = []\n",
      "    acc.append(n)\n",
      "    if n == 1:\n",
      "        return acc\n",
      "    else:\n",
      "        if n%2 == 0:\n",
      "            return hailstone(n/2, acc)\n",
      "        else:\n",
      "            return hailstone(n*3 + 1, acc)\n",
      "```"
     ]
    },
    {
     "cell_type": "code",
     "collapsed": false,
     "input": [
      "# Non-recursive code to generate hailstone numbers\n",
      "\n",
      "def hailstone(n, acc=None):\n",
      "    if acc is None:\n",
      "        acc=[]\n",
      "    acc.append(n)\n",
      "    while(n!=1):\n",
      "        if n%2 == 0:\n",
      "            n=n/2\n",
      "        else:\n",
      "            n=n*3+1\n",
      "        acc.append(n)\n",
      "    return acc\n",
      "\n",
      "print(hailstone(23))\n",
      "print(len(hailstone(23)))"
     ],
     "language": "python",
     "metadata": {},
     "outputs": [
      {
       "output_type": "stream",
       "stream": "stdout",
       "text": [
        "[23, 70, 35, 106, 53, 160, 80, 40, 20, 10, 5, 16, 8, 4, 2, 1]\n",
        "16\n"
       ]
      }
     ],
     "prompt_number": 18
    },
    {
     "cell_type": "markdown",
     "metadata": {},
     "source": [
      "**Exercise 4 [20 pts]**. A Caesar cipher replaces each in a string with the letter $k$ modulo 26 positions down. For example, with $k=3$, 'a' would become 'd', 'b' would become 'e' and so on. The Caesar cipher is very easy to crack, since the relative letter frequencies are preserved - that is, 'e' is the most commonly used English letter, so the most frequent letter in the cipher is likely to be the code for 'e'. We can download a large corpus of English text (e.g. a few books from Project Gutenberg), and estimate the individual letter frequencies. Using for example, a multinomial model where each letter is one of 26 possibiilites with frequencies given by the the previous estimates, and assuming that each letter is independent, we can simply go through all 26 possible values of $k$ and choose the model with the highest likelihood. Or just use $\\chi^2$ statistic to compare observed and expected frequencies.\n",
      "\n",
      "Here is an extended exercise to write a Caesar encoder and code to crack the cipher. \n",
      "\n",
      "**Writing the encoder/decoder**:\n",
      "    - Convert a sentence to lowercase\n",
      "    - Write a function let2int to convert a lowercase letter to a number from $0$ to $25$\n",
      "        - Hint: look up ord() function\n",
      "    - Write the reverse function int2let to convert a number to a lowercase letter\n",
      "        - Hint: look up chr() function\n",
      "    - Write a functiton to encode a sentence with shift $k$\n",
      "        - Hint: Use list comprehension with [ternary operator](https://docs.python.org/3.3/faq/programming.html#is-there-an-equivalent-of-c-s-ternary-operator) to check for a lowercase letter\n",
      "    - Write a function to decode a sentence with shift $k$\n",
      "        - Hint: Use the encode function\n",
      "    - Confirm that sentence = decode(encode(sentence))\n",
      "\n",
      "**More hints for encoding/decoding**:\n",
      "\n",
      "There are two slightly tricky aspects to encoding/decoding. First is that we want to convert any character into an integer in $[0, 26)$. Because letters are ordered ('b' comes after 'a'), this can be done by subtracting `ord('a')` for the lowercase letters. After adding $k$, we need to take the number modulo $26$ since the Caesar cipher \"wraps around\". Second is that this will only work for lowercase letters - so we need to pass along any characters that are not in 'a-z' unchanged.\n",
      "    \n",
      "**Writing the cracker**:\n",
      "    - Write a function to download a book from Project Gutenberg\n",
      "        - Hint: use\n",
      "        ```python\n",
      "        text = urllib2.urlopen('http://www.gutenberg.org/ebooks/1342.txt.utf-8').read()\n",
      "        ```\n",
      "    - The book is now in the Github repository as book.txt.  Instead of using the above code, just use\n",
      "    ```python\n",
      "    text = open('book.txt').read()\n",
      "    ```\n",
      "    - Write a fucntion to estimate letter frequencies in text\n",
      "        - Hint: recall various ways to count letters in a string from Lecture 1\n",
      "    - Write a function to calculate the $\\chi^2$ statistic given observed and expected frequencies\n",
      "        - Hint: $\\chi^2 = \\sum_{i=1}{k} \\frac{(\\text{Observed} - \\text{Expected})^2}{\\text{Expected}}$\n",
      "    - Write a cracker to decode encrypted text by choosing the shift $k$ with the smallest $\\chi^2$ score\n",
      "        - Hint: xs.index(min(xs)) gives location of minimum value in the list xs.\n",
      "    - Any reasoanable Englsh sentence should work - just maek one up or copy and paste from somewhere."
     ]
    },
    {
     "cell_type": "code",
     "collapsed": false,
     "input": [
      "import collections as col\n",
      "\n",
      "## Encoder/Decoder\n",
      "\n",
      "a=\"Books may also refer to works of literature, or a main division of such a work. In library and information science, a book is called a monograph, to distinguish it from serial periodicals such as magazines, journals or newspapers. The body of all written works including books is literature. In novels and sometimes other types of books (for example, biographies), a book may be divided into several large sections, also called books (Book 1, Book 2, Book 3, and so on). An avid reader of books is a bibliophile or colloquially, bookworm.\"\n",
      "\n",
      "# Conversion to lowercase\n",
      "\n",
      "a=a.lower()\n",
      "\n",
      "# Function for letter to integer conversion\n",
      "\n",
      "def let2int(b):\n",
      "    numb=ord(b)-ord('a')\n",
      "    return numb\n",
      "\n",
      "# Function for integer to letter conversion\n",
      "\n",
      "def int2let(numc):\n",
      "    c=chr(numc+ord('a'))\n",
      "    return c\n",
      "\n",
      "# A function to encode a sentence with shift k\n",
      "\n",
      "def encode(s,k):\n",
      "    num=[let2int(x) for x in s] #convert each character to integer value\n",
      "    enc=[(x+k)%26 if 0<=x<=25 else x for x in num] #shift only lower case letters\n",
      "    let=[int2let(x) for x in enc] #convert integer values back to characters\n",
      "    return ''.join(let)\n",
      "\n",
      "# A function to decode a sentence with shift k\n",
      "       \n",
      "def decode(s,k):\n",
      "    num=[let2int(x) for x in s]\n",
      "    enc=[(x-k)%26 if 0<=x<=25 else x for x in num]\n",
      "    let=[int2let(x) for x in enc]\n",
      "    return ''.join(let)\n",
      "\n",
      "# Confirm that sentence = decode(encode(sentence))\n",
      "print(decode(encode(a,3),3))"
     ],
     "language": "python",
     "metadata": {},
     "outputs": [
      {
       "output_type": "stream",
       "stream": "stdout",
       "text": [
        "books may also refer to works of literature, or a main division of such a work. in library and information science, a book is called a monograph, to distinguish it from serial periodicals such as magazines, journals or newspapers. the body of all written works including books is literature. in novels and sometimes other types of books (for example, biographies), a book may be divided into several large sections, also called books (book 1, book 2, book 3, and so on). an avid reader of books is a bibliophile or colloquially, bookworm.\n"
       ]
      }
     ],
     "prompt_number": 19
    },
    {
     "cell_type": "code",
     "collapsed": false,
     "input": [
      "## Cracker\n",
      "\n",
      "text=open('book.txt').read()\n",
      "textLower=text.lower()\n",
      "\n",
      "# Function to estimate letter frequencies in text\n",
      "\n",
      "def frequency(textLower):\n",
      "    count=col.Counter(textLower)\n",
      "    countDict={x:count[x] for x in count if 0<=let2int(x)<=25} #dictionary data-structure with count of each letter\n",
      "    return {x:countDict[x]/float(len(textLower)) for x in countDict} #dictionary of letter frequencies\n",
      "\n",
      "# Function to calculate chi squared statistic for k from 0 to 25 (equivalent to 1 to 26)\n",
      "\n",
      "def ChiSq(expected,observed):\n",
      "    chiSq=[]\n",
      "    for k in range(26):\n",
      "        chisq=0\n",
      "        expectedNew={x:expected[decode(x,k)] for x in expected} \n",
      "        for j in observed:\n",
      "            chisq+=(observed[j]-expectedNew[j])**2/expectedNew[j]\n",
      "        chiSq.append(chisq)\n",
      "    return chiSq # A list of chi-sq values for k from 0 to 25\n",
      "\n",
      "# Cracker function that decodes the encrypted sentence choosing the k having min chi-sq value\n",
      "\n",
      "def cracker(example,textLower):\n",
      "    observed=frequency(example) \n",
      "    expected=frequency(textLower) #calculate observed and expected frequencies\n",
      "    chisq=ChiSq(expected,observed) #calculate the chi-squared statistic for all k from 0 to 25 \n",
      "    final=decode(example,chisq.index(min(chisq))) #decoding\n",
      "    return(final)\n",
      "\n",
      "# Testing. Encode the sentence above by k=12\n",
      "\n",
      "example=encode(a,12)\n",
      "\n",
      "# Decode using the cracker\n",
      "\n",
      "print(cracker(example,textLower))\n",
      "\n",
      "#Below we see that the decoded text is exactly the same as the original text and hence the cracker works!! "
     ],
     "language": "python",
     "metadata": {},
     "outputs": [
      {
       "output_type": "stream",
       "stream": "stdout",
       "text": [
        "books may also refer to works of literature, or a main division of such a work. in library and information science, a book is called a monograph, to distinguish it from serial periodicals such as magazines, journals or newspapers. the body of all written works including books is literature. in novels and sometimes other types of books (for example, biographies), a book may be divided into several large sections, also called books (book 1, book 2, book 3, and so on). an avid reader of books is a bibliophile or colloquially, bookworm.\n"
       ]
      }
     ],
     "prompt_number": 21
    }
   ],
   "metadata": {}
  }
 ]
}
