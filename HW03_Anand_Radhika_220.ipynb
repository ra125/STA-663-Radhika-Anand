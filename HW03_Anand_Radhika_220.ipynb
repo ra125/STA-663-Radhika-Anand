{
 "metadata": {
  "name": "",
  "signature": "sha256:5fc908cb3bcf42307841f27f709e67de64d5488f6b5ed14145f5dd7b7d3c7d39"
 },
 "nbformat": 3,
 "nbformat_minor": 0,
 "worksheets": [
  {
   "cells": [
    {
     "cell_type": "code",
     "collapsed": false,
     "input": [
      "import os\n",
      "import sys\n",
      "import glob\n",
      "import matplotlib.pyplot as plt\n",
      "import numpy as np\n",
      "import pandas as pd\n",
      "%matplotlib inline\n",
      "plt.style.use('ggplot')"
     ],
     "language": "python",
     "metadata": {},
     "outputs": [],
     "prompt_number": 2
    },
    {
     "cell_type": "markdown",
     "metadata": {},
     "source": [
      "**Exercise 1 (10 pts)**. Avoding catastrophic cancellation.\n",
      "\n",
      "The tail of the standard logistic distributon is given by $1 - F(t) = 1 - (1+e^{-t})^{-1}$.\n",
      "\n",
      "- Define a function `f1` to calculate the tail probability of the logistic distribution using the formula given above\n",
      "- Use `sympy` to find the exact value of the tail distribution (using the same symbolic formula) to 20 decimal digits\n",
      "- Calculate the *relative error* of `f1` when $t = 25$ (The relative error is given by `abs(exact - approximate)/exact`)\n",
      "- Rewrite the expression for the tail of the logistic distribution using simple algebra so that there is no risk of cancellation, and write a function `f2` using this formula. Calculate the *relative error* of `f2` when $t = 25$. \n",
      "- How much more accurate is `f2` compared with `f1` in terms of the relative error?"
     ]
    },
    {
     "cell_type": "code",
     "collapsed": false,
     "input": [
      "#Defining function f1\n",
      "def f1(t):\n",
      "    return 1-((1+np.exp(-t))**(-1))\n",
      "\n",
      "#Exact value uing sympy\n",
      "from sympy import *\n",
      "t=symbols('t')\n",
      "fExact=1-(1+exp(-t))**(-1)\n",
      "fExact25=N(fExact.subs(t,25),20)\n",
      "\n",
      "print \"The sympy fucntion is:\", fExact, '\\n'\n",
      "print \"The exact value at t=25, upto 20 decimal digits, is:\", fExact25, '\\n'\n",
      "\n",
      "#Relative error with f1\n",
      "er1=abs(f1(25)-fExact25)/fExact25\n",
      "print \"The relative error of f1 at t=25 is\", er1, '\\n'\n",
      "\n",
      "#Defining f2\n",
      "def f2(t):\n",
      "    return np.exp(-t)/(1+np.exp(-t))\n",
      "\n",
      "#Relative error with f2\n",
      "er2=abs(f2(25)-fExact25)/fExact25\n",
      "print \"The relative error of f2 at t=25 is\", er2, '\\n'\n",
      "\n",
      "#Comapring f1 and f2\n",
      "print \"Therefore, f2 is\", er1/er2, \"times more accurate compared to f1\""
     ],
     "language": "python",
     "metadata": {},
     "outputs": [
      {
       "output_type": "stream",
       "stream": "stdout",
       "text": [
        "The sympy fucntion is: 1 - 1/(1 + exp(-t)) \n",
        "\n",
        "The exact value at t=25, upto 20 decimal digits, is: 1.3887943864771145610e-11 \n",
        "\n",
        "The relative error of f1 at t=25 is 4.1759147665982646285e-6 \n",
        "\n",
        "The relative error of f2 at t=25 is 2.3111252748218700406e-18 \n",
        "\n",
        "Therefore, f2 is 1806875123599.7465438 times more accurate compared to f1\n"
       ]
      }
     ],
     "prompt_number": 3
    },
    {
     "cell_type": "markdown",
     "metadata": {},
     "source": [
      "**Exercise 2 (10 pts)**. Ill-conditioned linear problems.\n",
      "\n",
      "You are given a $n \\times p$ design matrix $X$ and a $p$-vector of observations $y$ and asked to find the coefficients $\\beta$ that solve the linear equations $X \\beta = y$. \n",
      "```python\n",
      "X = np.load('x.npy')\n",
      "y = np.load('y.npy')\n",
      "```\n",
      "\n",
      "The solution $\\beta$ can also be loaded as\n",
      "```python\n",
      "beta = np.load('b.npy')\n",
      "```\n",
      "\n",
      "- Write a formula that could solve the system of linear equations in terms of $X$ and $y$ Write a function `f1` that takes arguments $X$ and $y$ and returns $\\beta$ using this formula.\n",
      "- How could you code this formula using `np.linalg.solve` that does not require inverting a matrix? Write a function `f2` that takes arguments $X$ and $y$ and returns $\\beta$ using this.\n",
      "- Note that carefully designed algorithms *can* solve this ill-conditioned problem, which is why you should always use library functions for linear algebra rather than write your own.\n",
      "```python\n",
      "np.linalg.lstsq(x, y)[0]\n",
      "```\n",
      "- What happens if you try to solve for $\\beta$ using `f1` or `f2`? Remove the column of $X$ that is making the matrix singluar and find the $p-1$ vector $b$ using `f2`.\n",
      "- Note that the solution differs from that given by `np.linalg.lstsq`? This arises because the relevant condition number for `f2` is actually for the matrix $X^TX$ while the condition number of `lstsq` is for the matrix $X$. Why is the condition so high even after removing the column that makes the matrix singular?"
     ]
    },
    {
     "cell_type": "code",
     "collapsed": false,
     "input": [
      "from scipy import linalg\n",
      "\n",
      "X = np.load('x.npy')\n",
      "y = np.load('y.npy')\n",
      "beta = np.load('b.npy')\n",
      "\n",
      "print \"Formula to solve the system of linear equations is beta=([Xtranspose.X]^-1).(Xtranspose.y)\", '\\n'\n",
      "\n",
      "#Defining f1 to solve the system\n",
      "def f1(X,y):\n",
      "    xt=X.T\n",
      "    xdot=np.dot(xt,X)\n",
      "    xinv=linalg.inv(xdot)\n",
      "    return np.dot(xinv,np.dot(xt,y))\n",
      "\n",
      "#Defining f2\n",
      "def f2(X,y):\n",
      "    return np.linalg.solve(np.dot(X.T,X),np.dot(X.T,y))\n",
      "\n",
      "#Using library function to solv\n",
      "print \"Beta values obtained using library function are:\", np.linalg.lstsq(X, y)[0], '\\n'\n",
      "\n",
      "print \"When trying to solve using f1 or f2 there is error because the matrix is singular. \\\n",
      "The columns are not independent and hence we need to remove the column causing this.\", '\\n'\n",
      "\n",
      "#We know that the rank of X is 5 and so we remove each column and see if removing that column makes the matrix rank 5.\n",
      "#We find out that removing the 4th column makes the matrix full rank. Xn is this new matrix\n",
      "for i in range(6):\n",
      "    if np.linalg.matrix_rank(np.delete(X,i,1))==5:\n",
      "        Xn=np.delete(X,i,1)\n",
      "        break\n",
      "\n",
      "#Solving for beta using new matrix Xn\n",
      "print \"The beta vector obtained, using f2, after removing the redundant column \\\n",
      "(i.e. the 4th column) is:\", f2(Xn,y), '\\n'\n",
      "\n",
      "print \"We see that the solutions differ slightly because the relevant condition \\\n",
      "number for f2 is actually for the matrix Xtranspose.X while the condition number of lstsq is \\\n",
      "for the matrix X\", '\\n'\n",
      "\n",
      "#Printing Xn to see why condition number is so high\n",
      "print \"The matrix Xn (new matrix after removing redundancy) is:\", '\\n', Xn, '\\n'\n",
      "\n",
      "print \"The condition number for this Xn is:\",np.linalg.cond(Xn), \"which is still very high\", '\\n'\n",
      "\n",
      "print \"This is because the columns of this matrix are on a very different scale. \\\n",
      "We see that the scale of the 2nd column is very big compared to the other columns. \\\n",
      "This is why the condition number is still so high. Therefore, we need to standardize the matrix.\", '\\n'\n",
      "\n",
      "#Standardizing\n",
      "mu = Xn.mean(axis=0)\n",
      "sd = Xn.std(axis=0)\n",
      "\n",
      "print \"The condition number for the standardized matrix is:\", np.linalg.cond((Xn - mu)/sd), \"which is \\\n",
      "is small enough\", '\\n'"
     ],
     "language": "python",
     "metadata": {},
     "outputs": [
      {
       "output_type": "stream",
       "stream": "stdout",
       "text": [
        "Formula to solve the system of linear equations is beta=([Xtranspose.X]^-1).(Xtranspose.y) \n",
        "\n",
        "Beta values obtained using library function are: [ 0.46950359  0.09617226  0.90379971  0.00945473  0.52517152  0.09454725] \n",
        "\n",
        "When trying to solve using f1 or f2 there is error because the matrix is singular. The columns are not independent and hence we need to remove the column causing this. \n",
        "\n",
        "The beta vector obtained, using f2, after removing the redundant column (i.e. the 4th column) is: [ 0.47124346  0.09617226  0.90189036  0.52598538  0.09533988] \n",
        "\n",
        "We see that the solutions differ slightly because the relevant condition number for f2 is actually for the matrix Xtranspose.X while the condition number of lstsq is for the matrix X \n",
        "\n",
        "The matrix Xn (new matrix after removing redundancy) is: \n",
        "[[  5.00000000e+00   4.81600000e+14   9.00000000e+00   0.00000000e+00\n",
        "    5.00000000e+01]\n",
        " [  1.00000000e+00   4.21400000e+14   6.00000000e+00   2.00000000e+00\n",
        "    9.00000000e+01]\n",
        " [  5.00000000e+00   1.20400000e+14   4.00000000e+00   4.00000000e+00\n",
        "    2.00000000e+01]\n",
        " [  7.00000000e+00   5.41800000e+14   1.00000000e+00   0.00000000e+00\n",
        "    7.00000000e+01]\n",
        " [  9.00000000e+00   5.41800000e+14   7.00000000e+00   9.00000000e+00\n",
        "    6.00000000e+01]\n",
        " [  0.00000000e+00   6.02000000e+13   8.00000000e+00   3.00000000e+00\n",
        "    8.00000000e+01]\n",
        " [  8.00000000e+00   4.21400000e+14   3.00000000e+00   5.00000000e+00\n",
        "    6.00000000e+01]\n",
        " [  9.00000000e+00   1.80600000e+14   4.00000000e+00   1.00000000e+00\n",
        "    8.00000000e+01]\n",
        " [  0.00000000e+00   1.80600000e+14   9.00000000e+00   0.00000000e+00\n",
        "    2.00000000e+01]\n",
        " [  9.00000000e+00   1.20400000e+14   7.00000000e+00   9.00000000e+00\n",
        "    7.00000000e+01]] \n",
        "\n",
        "The condition number for this Xn is: 1.77775396117e+14 which is still very high \n",
        "\n",
        "This is because the columns of this matrix are on a very different scale. We see that the scale of the 2nd column is very big compared to the other columns. This is why the condition number is still so high. Therefore, we need to standardize the matrix. \n",
        "\n",
        "The condition number for the standardized matrix is: 2.73584086493 which is is small enough \n",
        "\n"
       ]
      }
     ],
     "prompt_number": 4
    },
    {
     "cell_type": "markdown",
     "metadata": {},
     "source": [
      "**Exercise 3 (10 pts)**. Importance of using efficient algorihtms.\n",
      "\n",
      "- Implement bubble sort\n",
      "- Calculate its big $\\mathcal{O}$ algorithmic complexity\n",
      "- Time the performance of bubble sort on random uniform deviate vectors of sizes `range(100, 2000, 100)` using `time.time()` from the standard library\n",
      "- Use `scipy.optimize.curve_fit` to fit an appropriate function to the collection of (size, execution time) data points. Extrapolate how long it would take to sort a random vector of size 1,000,000. Now time how long it takes for the system sort to sort a random vector of size 1,000,000.\n",
      "- Plot the fits together with the data points uisng `matplotlib.pyplot` functions."
     ]
    },
    {
     "cell_type": "code",
     "collapsed": false,
     "input": [
      "import time\n",
      "from scipy import optimize\n",
      "np.random.seed(10)\n",
      "\n",
      "#Bubble sort implementation\n",
      "def bubbleSort(lis):\n",
      "    for n in range(len(lis)-1,0,-1):\n",
      "        for i in range(n):\n",
      "            if lis[i]>lis[i+1]:\n",
      "                temp=lis[i]\n",
      "                lis[i]=lis[i+1]\n",
      "                lis[i+1]=temp\n",
      "    return lis\n",
      "\n",
      "#Checking the algorithm\n",
      "print \"Sorted version of\", [5,3,3,2,6],\"is\", bubbleSort([5,3,3,2,6]), '\\n'\n",
      "\n",
      "#Complexity\n",
      "print \"The time complexity of Bubble Sort is O(n^2) in average and worst case and O(n) in best \\\n",
      "case (i.e. when the list is already sorted), where n is the length of the list to be sorted.\\\n",
      " Also the space complexity is O(1).\", '\\n'\n",
      "\n",
      "#Timing the performance\n",
      "t=[]\n",
      "for i in range(100, 2000, 100):\n",
      "    l=np.random.random(i) #Uniformly from 0 to 1\n",
      "    t1=time.time()\n",
      "    bubbleSort(l)\n",
      "    t2=time.time()\n",
      "    t.append(t2-t1)\n",
      "print \"Time taken by bubble sort to sort vectors of sizes range(100, 2000, 100), respectively, is:\", '\\n', t, '\\n'\n",
      "\n",
      "#Curve fitting\n",
      "from scipy.optimize import curve_fit\n",
      "\n",
      "def func(x,a,b,c):\n",
      "    return a+b*x+c*(x**2) #Fitting square term because complexity is n squared\n",
      "\n",
      "r,s=curve_fit(func,range(100, 2000, 100),t)\n",
      "\n",
      "print \"The fitted curve is:\", r[0], \"+\", r[1], \"*x+\", r[2], \"*x^2\", '\\n'\n",
      "\n",
      "#Extrpolating time for size 1 mil\n",
      "time_1mil=func(1000000,r[0],r[1],r[2])\n",
      "print \"Time taken by bubble sort to sort a vector of size 1,000,000 (by extrapolation)\\\n",
      "is:\", time_1mil, \"standard units\", '\\n' \n",
      "\n",
      "#Time for system sort\n",
      "t1=time.time()\n",
      "sorted(np.random.uniform(1,100,1000000))\n",
      "t2=time.time()\n",
      "print \"Time taken by system sort for vector of size 1,000,000 is:\", t2-t1, \"Thus, we see that bubble\\\n",
      "sort is very very slow\", '\\n'\n",
      "\n",
      "#Plotting the fit and datapoints\n",
      "xi=np.linspace(0,2000,100)\n",
      "yi=func(xi,r[0],r[1],r[2])\n",
      "\n",
      "print \"The plot of the fit and datapoints is as below:\", '\\n'\n",
      "plt.plot(xi,yi, '-')\n",
      "plt.plot(range(100, 2000, 100),t,'bo')\n"
     ],
     "language": "python",
     "metadata": {},
     "outputs": [
      {
       "output_type": "stream",
       "stream": "stdout",
       "text": [
        "Sorted version of [5, 3, 3, 2, 6] is [2, 3, 3, 5, 6] \n",
        "\n",
        "The time complexity of Bubble Sort is O(n^2) in average and worst case and O(n) in best case (i.e. when the list is already sorted), where n is the length of the list to be sorted. Also the space complexity is O(1). \n",
        "\n",
        "Time taken by bubble sort to sort vectors of sizes range(100, 2000, 100), respectively, is:"
       ]
      },
      {
       "output_type": "stream",
       "stream": "stdout",
       "text": [
        " \n",
        "[0.0024368762969970703, 0.009078025817871094, 0.021291017532348633, 0.03765392303466797, 0.0576930046081543, 0.08450984954833984, 0.11265802383422852, 0.1473391056060791, 0.18866586685180664, 0.23143410682678223, 0.28455090522766113, 0.35010385513305664, 0.3904430866241455, 0.46028590202331543, 0.5262360572814941, 0.6022529602050781, 0.6746809482574463, 0.7521569728851318, 0.8387260437011719] \n",
        "\n",
        "The fitted curve is: -0.00245523029644 + 7.91940406e-06 *x+ 2.29488956404e-07 *x^2 \n",
        "\n",
        "Time taken by bubble sort to sort a vector of size 1,000,000 (by extrapolation)is: 229496.873353 standard units \n",
        "\n",
        "Time taken by system sort for vector of size 1,000,000 is:"
       ]
      },
      {
       "output_type": "stream",
       "stream": "stdout",
       "text": [
        " 0.911724090576 Thus, we see that bubblesort is very very slow \n",
        "\n",
        "The plot of the fit and datapoints is as below: \n",
        "\n"
       ]
      },
      {
       "metadata": {},
       "output_type": "pyout",
       "prompt_number": 5,
       "text": [
        "[<matplotlib.lines.Line2D at 0x7f71d8543d50>]"
       ]
      },
      {
       "metadata": {},
       "output_type": "display_data",
       "png": "[encoded data removed]",
       "text": [
        "<matplotlib.figure.Figure at 0x7f71db1fc650>"
       ]
      }
     ],
     "prompt_number": 5
    },
    {
     "cell_type": "markdown",
     "metadata": {},
     "source": [
      "**Exercise 4 (20 pts)**. One of the goals of the course it that you will be able to implement novel algorihtms from the literature. \n",
      "\n",
      "- Implement the mean-shift algorithm in 1D as described [here](http://homepages.inf.ed.ac.uk/rbf/CVonline/LOCAL_COPIES/TUZEL1/MeanShift.pdf). \n",
      "    - Use the following function signature\n",
      "    ```python\n",
      "    def mean_shift(xs, x, kernel, max_iters=100, tol=1e-6):\n",
      "    ```\n",
      "    - xs is the data set, x is the starting location, and kernel is a kernel function\n",
      "    - tol is the difference in $||x||$ across iterations\n",
      "- Use the following kernels with bandwidth $h$ (a default value of 1.0 will work fine)\n",
      "    - Flat - return 1 if $||x|| < h$ and 0 otherwise\n",
      "    - Gaussian \n",
      "    $$\\frac{1}{\\sqrt{2 \\pi h}}e^{\\frac{-||x||^2}{h^2}}$$\n",
      "    - Note that $||x||$ is the norm of the data point being evaluated minus the current value of $x$\n",
      "- Use both kernels to find all 3 modes of the data set in `x1d.npy`\n",
      "- Modify the algorithm and/or kernels so that it now works in an arbitrary number of dimensions.\n",
      "- Use both kernels to find all 3 modes of the data set in `x2d.npy`\n",
      "- Plot the path of successive intermediate solutions of the mean-shift algorithm starting from `x0 = (-4, 10)` until it converges onto a mode in the 2D data for each kernel. Superimpose the path on top of a contour plot of the data density."
     ]
    },
    {
     "cell_type": "code",
     "collapsed": false,
     "input": [
      "from scipy.misc import derivative\n",
      "\n",
      "#Implementing mean shift algorithm for 1-D\n",
      "\n",
      "def mean_shift(xs, x, kernel, max_iters=100, tol=1e-6):\n",
      "    for j in range(max_iters):\n",
      "        num = 0\n",
      "        den = 0\n",
      "        for i in range(len(xs)):\n",
      "            z = (np.linalg.norm(x-xs[i]))**2\n",
      "            num += xs[i] * kernel(z)\n",
      "            den += kernel(z)\n",
      "        mean_shift = num/den - x\n",
      "        if abs(mean_shift)<tol:\n",
      "            break\n",
      "        else:\n",
      "            x=x+mean_shift\n",
      "    return x\n",
      "\n",
      "#Gaussian kernel\n",
      "def gaussian(x, h=1):\n",
      "    return ((2*np.pi*h)**(-0.5))*np.exp(-x/(h**2))\n",
      "\n",
      "#Flat kernel\n",
      "def flat(x, h=1):\n",
      "    if np.sqrt(x)<h: #sqrt because input from mean_shift will be norm square\n",
      "        return 1\n",
      "    else:\n",
      "        return 0\n",
      "\n",
      "#Finding all 3 modes in 1-D\n",
      "x1d=np.load('x1d.npy')\n",
      "\n",
      "#Flat (starting at min max and 0)\n",
      "print \"The 3 modes in 1-D obtained using Flat kernel are:\", mean_shift(x1d,min(x1d),flat), mean_shift(x1d,0,flat), \"\\\n",
      "and\", mean_shift(x1d,max(x1d),flat), '\\n'\n",
      "\n",
      "#Gaussian (starting at min max and 0)\n",
      "print \"The 3 modes in 1-D obtained using Gaussian kernel are:\", mean_shift(x1d,min(x1d),gaussian), mean_shift(x1d,0,gaussian), \"\\\n",
      "and\", mean_shift(x1d,max(x1d),gaussian), '\\n'"
     ],
     "language": "python",
     "metadata": {},
     "outputs": [
      {
       "output_type": "stream",
       "stream": "stdout",
       "text": [
        "The 3 modes in 1-D obtained using Flat kernel are: "
       ]
      },
      {
       "output_type": "stream",
       "stream": "stdout",
       "text": [
        "-4.99502467965 "
       ]
      },
      {
       "output_type": "stream",
       "stream": "stdout",
       "text": [
        "0.35441950635 and "
       ]
      },
      {
       "output_type": "stream",
       "stream": "stdout",
       "text": [
        "3.97936417657 \n",
        "\n",
        "The 3 modes in 1-D obtained using Gaussian kernel are: "
       ]
      },
      {
       "output_type": "stream",
       "stream": "stdout",
       "text": [
        "-4.92978922998 "
       ]
      },
      {
       "output_type": "stream",
       "stream": "stdout",
       "text": [
        "0.551840453242 and "
       ]
      },
      {
       "output_type": "stream",
       "stream": "stdout",
       "text": [
        "3.88538181893 \n",
        "\n"
       ]
      }
     ],
     "prompt_number": 6
    },
    {
     "cell_type": "code",
     "collapsed": false,
     "input": [
      "#Algorithm for n-D\n",
      "\n",
      "def mean_shift_nd(xs, x, kernel, max_iters=100, tol=1e-6):\n",
      "    path=[x]\n",
      "    for j in range(max_iters):\n",
      "        num = 0\n",
      "        den = 0\n",
      "        for i in range(len(xs)):\n",
      "            z = (np.linalg.norm(x-xs[i,:]))**2\n",
      "            num += xs[i] * kernel(z)\n",
      "            den += kernel(z)\n",
      "        mean_shift = num/den - x\n",
      "        if max(abs(mean_shift))<tol: #makes sure the algo works for n-D\n",
      "            break\n",
      "        else:\n",
      "            x = x+mean_shift\n",
      "            path.append(list(x))      \n",
      "    return x, path\n",
      "\n",
      "#Finding modes in 2-D\n",
      "x2d=np.load('x2d.npy')\n",
      "\n",
      "#Flat (fixing starting points to [-5,5], [0,5], [10,10])\n",
      "print \"The 3 modes in 2-D obtained using Flat kernel are:\", mean_shift_nd(x2d,[-5,5],flat)[0], mean_shift_nd(x2d,[0,5],flat)[0], \"\\\n",
      "and\", mean_shift_nd(x2d,[10,10],flat)[0], '\\n'\n",
      "\n",
      "#Gaussian (fixing starting points to [-5,5], [0,5], [10,10])\n",
      "print \"The 3 modes in 2-D obtained using Gaussian kernel are:\", mean_shift_nd(x2d,[-5,5],gaussian)[0], mean_shift_nd(x2d,[0,5],gaussian)[0], \"\\\n",
      "and\", mean_shift_nd(x2d,[10,10],gaussian)[0], '\\n'"
     ],
     "language": "python",
     "metadata": {},
     "outputs": [
      {
       "output_type": "stream",
       "stream": "stdout",
       "text": [
        "The 3 modes in 2-D obtained using Flat kernel are: "
       ]
      },
      {
       "output_type": "stream",
       "stream": "stdout",
       "text": [
        "[-3.08261867  3.05387831] "
       ]
      },
      {
       "output_type": "stream",
       "stream": "stdout",
       "text": [
        "[ 2.30098466  2.89586576] and "
       ]
      },
      {
       "output_type": "stream",
       "stream": "stdout",
       "text": [
        "[ 6.09393808  8.88086643] \n",
        "\n",
        "The 3 modes in 2-D obtained using Gaussian kernel are: "
       ]
      },
      {
       "output_type": "stream",
       "stream": "stdout",
       "text": [
        "[-3.03944246  3.05647425] "
       ]
      },
      {
       "output_type": "stream",
       "stream": "stdout",
       "text": [
        "[ 2.20846638  2.85186136] and "
       ]
      },
      {
       "output_type": "stream",
       "stream": "stdout",
       "text": [
        "[ 6.02546209  9.0113918 ] \n",
        "\n"
       ]
      }
     ],
     "prompt_number": 7
    },
    {
     "cell_type": "code",
     "collapsed": false,
     "input": [
      "#Plotting contour plot and paths\n",
      "import seaborn as sb\n",
      "\n",
      "#Path for gaussian starting at [-4,10]\n",
      "qg,pg=mean_shift_nd(x2d,[-4,10],gaussian)\n",
      "\n",
      "#Path for flat starting at [10,10] because [-4,10] is not a good point to start for this kernel\n",
      "qf,pf=mean_shift_nd(x2d,[10,10],flat)\n",
      "\n",
      "#Path for gaussian starting at [10,10]\n",
      "rg,sg=mean_shift_nd(x2d,[10,10],gaussian)\n",
      "\n",
      "print '\\n', \"The following plot shows the density contours and 3 paths. First is the path from [-4,10] to a mode using\\\n",
      " gaussian kernel (path in blue) [as asked by question, but since flat kernel doesnt converge\\\n",
      " if started at [-4,10], I took another starting point [10,10]]. So, the second and third paths are \\\n",
      " from [10,10] to another mode, one for flat (path in green) and one for gaussian kernel \\\n",
      " (path in red)\", '\\n'\n",
      "\n",
      "sb.kdeplot(x2d)\n",
      "plt.plot(np.array(pg)[:,0],np.array(pg)[:,1])\n",
      "plt.plot(np.array(pf)[:,0],np.array(pf)[:,1])\n",
      "plt.plot(np.array(sg)[:,0],np.array(sg)[:,1])\n",
      "\n",
      "print \"We see that flat kernel converges faster, i.e. in lesser steps, but gives a less accurate \\\n",
      "mode compared to gaussian, which is more accurate but also takes longer.\", '\\n'"
     ],
     "language": "python",
     "metadata": {},
     "outputs": [
      {
       "output_type": "stream",
       "stream": "stdout",
       "text": [
        "\n",
        "The following plot shows the density contours and 3 paths. First is the path from [-4,10] to a mode using gaussian kernel (path in blue) [as asked by question, but since flat kernel doesnt converge if started at [-4,10], I took another starting point [10,10]]. So, the second and third paths are  from [10,10] to another mode, one for flat (path in green) and one for gaussian kernel  (path in red) \n",
        "\n",
        "We see that flat kernel converges faster, i.e. in lesser steps, but gives a less accurate mode compared to gaussian, which is more accurate but also takes longer."
       ]
      },
      {
       "output_type": "stream",
       "stream": "stdout",
       "text": [
        " \n",
        "\n"
       ]
      },
      {
       "metadata": {},
       "output_type": "display_data",
       "png": "[encoded data removed]",
       "text": [
        "<matplotlib.figure.Figure at 0x7f71dcb1fa50>"
       ]
      }
     ],
     "prompt_number": 8
    }
   ],
   "metadata": {}
  }
 ]
}